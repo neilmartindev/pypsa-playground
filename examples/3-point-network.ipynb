{
 "cells": [
  {
   "cell_type": "code",
   "execution_count": 1,
   "id": "a6227e26-3b24-4a72-b02b-e1839f112cb4",
   "metadata": {},
   "outputs": [],
   "source": [
    "import pypsa \n",
    "import numpy as np\n",
    "\n",
    "network = pypsa.Network()"
   ]
  },
  {
   "cell_type": "code",
   "execution_count": 2,
   "id": "3fad359d-9975-4f24-baba-d132870dc929",
   "metadata": {},
   "outputs": [],
   "source": [
    "n_buses = 3\n",
    "\n",
    "for i in range(n_buses):\n",
    "    network.add(\"Bus\", \"My bus {}\".format(i), v_nom=20.)"
   ]
  },
  {
   "cell_type": "code",
   "execution_count": 3,
   "id": "4e40d78b-4211-49aa-9ca4-985dd10ddb7d",
   "metadata": {},
   "outputs": [
    {
     "ename": "IndentationError",
     "evalue": "expected an indented block after 'for' statement on line 2 (1471350725.py, line 3)",
     "output_type": "error",
     "traceback": [
      "\u001b[0;36m  Cell \u001b[0;32mIn[3], line 3\u001b[0;36m\u001b[0m\n\u001b[0;31m    network.add(\"Line\", \"My line {}\".format(i),\u001b[0m\n\u001b[0m    ^\u001b[0m\n\u001b[0;31mIndentationError\u001b[0m\u001b[0;31m:\u001b[0m expected an indented block after 'for' statement on line 2\n"
     ]
    }
   ],
   "source": [
    "#add three lines in a ring\n",
    "for i in range(n_buses):\n",
    "    network.add(\"Line\", \"My line {}\".format(i),\n",
    "                bus0=\"My bus {}\".format(i),\n",
    "                bus1=\"My bus {}\".format((i+1)%3),\n",
    "                x=0.1,\n",
    "                r=0.01)\n",
    "\n",
    "#add a generator at bus 0\n",
    "network.add(\"Generator\", \"My gen\",\n",
    "            bus=\"My bus 0\",\n",
    "            p_set=100,\n",
    "            control=\"PQ\")\n",
    "\n",
    "\n",
    "#add a load at bus 1\n",
    "network.add(\"Load\", \"My load\",\n",
    "            bus=\"My bus 1\",\n",
    "            p_set=100,\n",
    "            q_set=100)"
   ]
  },
  {
   "cell_type": "code",
   "execution_count": null,
   "id": "fa1f8f30-54c6-4478-8bf8-cbc70d461e14",
   "metadata": {},
   "outputs": [],
   "source": [
    "network.plot()"
   ]
  },
  {
   "cell_type": "code",
   "execution_count": null,
   "id": "5de5aee1-491f-4674-94c4-f245a0a27246",
   "metadata": {},
   "outputs": [],
   "source": []
  }
 ],
 "metadata": {
  "kernelspec": {
   "display_name": "Python 3 (ipykernel)",
   "language": "python",
   "name": "python3"
  },
  "language_info": {
   "codemirror_mode": {
    "name": "ipython",
    "version": 3
   },
   "file_extension": ".py",
   "mimetype": "text/x-python",
   "name": "python",
   "nbconvert_exporter": "python",
   "pygments_lexer": "ipython3",
   "version": "3.11.6"
  }
 },
 "nbformat": 4,
 "nbformat_minor": 5
}
